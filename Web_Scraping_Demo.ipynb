{
 "cells": [
  {
   "cell_type": "markdown",
   "id": "e1bcbb93",
   "metadata": {},
   "source": [
    "### This notebook is created to demonstrate web scraping using Python for beginners."
   ]
  },
  {
   "cell_type": "code",
   "execution_count": 2,
   "id": "07805906",
   "metadata": {},
   "outputs": [
    {
     "name": "stdout",
     "output_type": "stream",
     "text": [
      "Property details have been extracted and saved to dummy_apartment_listings.csv\n"
     ]
    }
   ],
   "source": [
    "#importing required libraries\n",
    "import requests\n",
    "import pandas as pd\n",
    "from bs4 import BeautifulSoup\n",
    "\n",
    "\n",
    "try:\n",
    "    #get the details into the object 'site_url', from the webpage you wish to scrap \n",
    "    site_url = 'https://phoenixim.github.io/SampleWebsite/'\n",
    "    \n",
    "    #save the values received from the website to the 'apt_listing' object\n",
    "    apt_listings = requests.get(site_url)\n",
    "\n",
    "except Exception as err:\n",
    "    raise Exception(f\"Failed to retrieve data from the website:: {err}\")\n",
    "else:\n",
    "    if apt_listings.status_code != 200:\n",
    "        raise ValueError(\"Error occured: Invalid response\")\n",
    "\n",
    "\n",
    "#parse the details of 'apt_listings' object to 'listing_soup' using the html parser\n",
    "listing_soup = BeautifulSoup(apt_listings.text,'html.parser')\n",
    "\n",
    "\n",
    "#find all the '<div class=\"individual-listing-card\">' tags from html code\n",
    "listings = listing_soup.find_all('div', class_='individual-listing-card')   #listings = listing_soup.find_all('div', attrs={'class':'individual-listing-card'})\n",
    "\n",
    "\n",
    "#create empty lists to save individual details extracted from the web page\n",
    "property_details = []\n",
    "no_of_bedrooms = []\n",
    "monthly_rent = []\n",
    "agency_name = []\n",
    "\n",
    "\n",
    "#iterate through the object 'listings' to fetch required details\n",
    "for item in listings:\n",
    "    address_element = item.find('h2',class_='card-title-5')\n",
    "    address = address_element.text.strip() if address_element else \"No details found\"\n",
    "    property_details.append(address)\n",
    "       \n",
    "    bedrooms_element = item.find('p', class_='card-subtitle-rooms-small-grey')\n",
    "    bedrooms = bedrooms_element.text.strip() if bedrooms_element else \"No details found\"\n",
    "    no_of_bedrooms.append(bedrooms)\n",
    "    \n",
    "    rent_element = item.find('h3', class_='card-rent')\n",
    "    rent = rent_element.text.strip() if rent_element else \"No details found\"\n",
    "    monthly_rent.append(rent)\n",
    "    \n",
    "    agency_element = item.find('p', class_='card-agency')\n",
    "    agency = agency_element.text.strip() if agency_element else \"No details found\"\n",
    "    agency_name.append(agency)\n",
    "    \n",
    "        \n",
    "#create pandas dataframe 'apt_listings' and store all the attributes in it   \n",
    "apartment_listings = pd.DataFrame({\n",
    "'property_name': property_details,\n",
    "'number_of_bedrooms': no_of_bedrooms,\n",
    "'monthly_rent': monthly_rent,\n",
    "'agency_name': agency_name,\n",
    "})\n",
    "\n",
    "\n",
    "#export the data to .csv file \n",
    "outout_file = 'dummy_apartment_listings.csv'\n",
    "apartment_listings.to_csv(outout_file, index=False, encoding='utf-8', header=\"true\")\n",
    "\n",
    "print(f\"Property details have been extracted and saved to {outout_file}\")"
   ]
  },
  {
   "cell_type": "code",
   "execution_count": null,
   "id": "1d2c5e25",
   "metadata": {},
   "outputs": [],
   "source": []
  }
 ],
 "metadata": {
  "kernelspec": {
   "display_name": "Python 3 (ipykernel)",
   "language": "python",
   "name": "python3"
  },
  "language_info": {
   "codemirror_mode": {
    "name": "ipython",
    "version": 3
   },
   "file_extension": ".py",
   "mimetype": "text/x-python",
   "name": "python",
   "nbconvert_exporter": "python",
   "pygments_lexer": "ipython3",
   "version": "3.7.13"
  }
 },
 "nbformat": 4,
 "nbformat_minor": 5
}
