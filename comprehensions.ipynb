{
 "cells": [
  {
   "cell_type": "markdown",
   "metadata": {},
   "source": [
    "## This notebook demonstrates Comprehensions and Generator Expression in Python."
   ]
  },
  {
   "cell_type": "markdown",
   "metadata": {},
   "source": [
    "#### <i><u><font color=brown> Different ways to create a List in Python. </i></u></font>"
   ]
  },
  {
   "cell_type": "code",
   "execution_count": 2,
   "metadata": {},
   "outputs": [
    {
     "name": "stdout",
     "output_type": "stream",
     "text": [
      "num_cube[] = [8, 64, 216, 512, 1000]\n",
      "num_cube_floop[] = [8, 64, 216, 512, 1000]\n",
      "num_cube_op[] = ['8', '64', '216', '512', '1000']\n",
      "num_cube_map[] = [8, 64, 216, 512, 1000]\n"
     ]
    }
   ],
   "source": [
    "#Different Ways to create a List in Python.\n",
    "#creating a List of cubes for even number >0 and <=10.\n",
    "\n",
    "#1.Directly by listing all its members/elements.\n",
    "num_cube=[8,64,216,512,1000]               \n",
    "print(f\"num_cube[] = {num_cube}\")\n",
    "\n",
    "#2.Using for loop.\n",
    "num_cube_floop=[]\n",
    "for n in range(1,11):\n",
    "    if n%2 == 0:               \n",
    "        num_cube_floop.append(n**3)\n",
    "        \n",
    "print(f\"num_cube_floop[] = {num_cube_floop}\")   \n",
    "\n",
    "#3.Using '+=' operator.\n",
    "num_cube_op=[]\n",
    "with open(\"list_input.txt\",\"r\") as input_data:\n",
    "    for i in input_data:\n",
    "        num_cube_op += i.split()\n",
    "        \n",
    "print(f\"num_cube_op[] = {num_cube_op}\") \n",
    "\n",
    "#4.Using map().\n",
    "numbers=[2,4,6,8,10]\n",
    "num_cube_map=list(map(lambda n:n**3,numbers))\n",
    "\n",
    "print(f\"num_cube_map[] = {num_cube_map}\") "
   ]
  },
  {
   "cell_type": "markdown",
   "metadata": {},
   "source": [
    "#### <i><u><font color=brown> 1. List Comprehension with for loop </i></u></font>"
   ]
  },
  {
   "cell_type": "code",
   "execution_count": 3,
   "metadata": {},
   "outputs": [
    {
     "name": "stdout",
     "output_type": "stream",
     "text": [
      "name_ltr[] = ['P', 'y', 't', 'h', 'o', 'n', ' ', 'P', 'r', 'o', 'g', 'r', 'a', 'm', 'm', 'i', 'n', 'g']\n",
      "With List-Comprehension = ['P', 'y', 't', 'h', 'o', 'n', ' ', 'P', 'r', 'o', 'g', 'r', 'a', 'm', 'm', 'i', 'n', 'g']\n"
     ]
    }
   ],
   "source": [
    "#1.List Comprehension with for loop\n",
    "#print the characters of a string as List\n",
    "\n",
    "name=\"Python Programming\"\n",
    "name_ltr=[]\n",
    "\n",
    "for letter in name:\n",
    "    name_ltr.append(letter)\n",
    "    \n",
    "print(f\"name_ltr[] = {name_ltr}\")    \n",
    "\n",
    "#with List Comprehension\n",
    "name_ltr_lc=[letter for letter in name]\n",
    "print(f\"With List-Comprehension = {name_ltr_lc}\")"
   ]
  },
  {
   "cell_type": "markdown",
   "metadata": {},
   "source": [
    "#### <i><u><font color=brown> 2. List Comprehension with if. </i></u></font>"
   ]
  },
  {
   "cell_type": "code",
   "execution_count": 4,
   "metadata": {},
   "outputs": [
    {
     "name": "stdout",
     "output_type": "stream",
     "text": [
      "num_cube_floop[] = [8, 64, 216, 512, 1000]\n",
      "With List-Comprehension = [8, 64, 216, 512, 1000]\n"
     ]
    }
   ],
   "source": [
    "#2.List Comprehension with if.\n",
    "#Part-1\n",
    "\n",
    "#creating a List of even numbers' cube\n",
    "num_cube_floop=[]\n",
    "\n",
    "for n in range(1,11):\n",
    "    if n%2 == 0:                               \n",
    "        num_cube_floop.append(n**3)\n",
    "        \n",
    "print(f\"num_cube_floop[] = {num_cube_floop}\")\n",
    "\n",
    "#with List Comprehension\n",
    "num_cube_lc=[n**3 for n in range(1,11) if n%2==0]\n",
    "print(f\"With List-Comprehension = {num_cube_lc}\")"
   ]
  },
  {
   "cell_type": "code",
   "execution_count": 5,
   "metadata": {},
   "outputs": [
    {
     "name": "stdout",
     "output_type": "stream",
     "text": [
      "words[] = ['Python', 'Programming']\n",
      "With List-Comprehension = ['Python', 'Programming']\n"
     ]
    }
   ],
   "source": [
    "#2.List Comprehension with if.\n",
    "#Part-2\n",
    "\n",
    "#list out words starting from letter 'P'\n",
    "statement=\"List Comprehension is one of the famous features of Python Programming\"\n",
    "words=[]\n",
    "\n",
    "for w in statement.split():\n",
    "    if w.startswith('P'):\n",
    "        words.append(w)\n",
    "\n",
    "print(f\"words[] = {words}\")\n",
    "\n",
    "#with List COmprehension\n",
    "words_lc=[w for w in statement.split() if w.startswith('P')]\n",
    "print(f\"With List-Comprehension = {words_lc}\")"
   ]
  },
  {
   "cell_type": "markdown",
   "metadata": {},
   "source": [
    "#### <i><u><font color=brown> 3. List Comprehension with if-else. </i></u></font>"
   ]
  },
  {
   "cell_type": "code",
   "execution_count": 6,
   "metadata": {},
   "outputs": [
    {
     "name": "stdout",
     "output_type": "stream",
     "text": [
      "square_cube[] = [0, 1, 4, 27, 16, 125, 36, 343, 64, 729]\n",
      "With List-Conprehension = [0, 1, 4, 27, 16, 125, 36, 343, 64, 729]\n"
     ]
    }
   ],
   "source": [
    "#3.List Comprehension with if-else\n",
    "#Part-1\n",
    "\n",
    "square_cube=[]  #creating a List of numbers - even number->square and odd number->cube\n",
    "\n",
    "for num in range(10):\n",
    "    if num%2==0:\n",
    "        square_cube.append(num**2)\n",
    "    else:\n",
    "        square_cube.append(num**3)\n",
    " \n",
    "print(f\"square_cube[] = {square_cube}\")\n",
    "\n",
    "#with List Comprehension\n",
    "square_cube_lc=[n**2 if n%2==0 else n**3 for n in range(10)]\n",
    "print(f\"With List-Conprehension = {square_cube_lc}\")"
   ]
  },
  {
   "cell_type": "code",
   "execution_count": 7,
   "metadata": {},
   "outputs": [
    {
     "name": "stdout",
     "output_type": "stream",
     "text": [
      "numbers[] = [([0, 4, 16, 36, 64], [1, 27, 125, 343, 729])]\n",
      "With List-Conprehension = [[0, 4, 16, 36, 64], [1, 27, 125, 343, 729]]\n"
     ]
    }
   ],
   "source": [
    "#3.List Comprehension with if-else\n",
    "#Part-2\n",
    "\n",
    "#Creating a List of two Lists - one for even numbers another for odd numbers.(Lists within a List)\n",
    "numbers=[]\n",
    "even=[]\n",
    "odd=[]\n",
    "\n",
    "for num in range(10):\n",
    "    if num%2==0:\n",
    "        even.append(num**2)\n",
    "    else:\n",
    "        odd.append(num**3)\n",
    "\n",
    "numbers.append((even,odd))\n",
    "print(f\"numbers[] = {numbers}\")        \n",
    "\n",
    "#with list comprehension\n",
    "numbers_lc=[[n**2 for n in range(10) if n%2==0],[n**3 for n in range(10)  if n%2!=0]]\n",
    "print(f\"With List-Conprehension = {numbers_lc}\")"
   ]
  },
  {
   "cell_type": "markdown",
   "metadata": {},
   "source": [
    "#### <i><u><font color=brown> 4. List Comprehension with nested for loop. </i></u></font>"
   ]
  },
  {
   "cell_type": "code",
   "execution_count": 8,
   "metadata": {},
   "outputs": [
    {
     "name": "stdout",
     "output_type": "stream",
     "text": [
      "cartesian[] = \n",
      " [('a', 0), ('a', 1), ('a', 2), ('a', 3), ('b', 0), ('b', 1), ('b', 2), ('b', 3), ('c', 0), ('c', 1), ('c', 2), ('c', 3)]\n",
      "With List-Conprehension = \n",
      " [('a', 0), ('a', 1), ('a', 2), ('a', 3), ('b', 0), ('b', 1), ('b', 2), ('b', 3), ('c', 0), ('c', 1), ('c', 2), ('c', 3)]\n"
     ]
    }
   ],
   "source": [
    "#4.List Comprehension with nested for loop\n",
    "#Part-1\n",
    "\n",
    "#cartesian product of two Lists\n",
    "char_list=['a','b','c']\n",
    "int_list=[0,1,2,3]\n",
    "cartesian=[]\n",
    "\n",
    "for x in char_list:\n",
    "    for y in int_list:\n",
    "        cartesian.append((x,y))\n",
    "        \n",
    "print(f\"cartesian[] = \\n {cartesian}\")        \n",
    "   \n",
    "#with List Comprehension\n",
    "print(f\"With List-Conprehension = \\n {[(p,q) for p in char_list for q in int_list]}\")"
   ]
  },
  {
   "cell_type": "code",
   "execution_count": 9,
   "metadata": {},
   "outputs": [
    {
     "name": "stdout",
     "output_type": "stream",
     "text": [
      "person[] = ['Python', 'Java', 'C++', 'C#']\n",
      "With List-Conprehension = ['Python', 'Java', 'C++', 'C#']\n"
     ]
    }
   ],
   "source": [
    "#4.List Comprehension with nested for loop\n",
    "#Part-2\n",
    "\n",
    "#dictionary inside a list\n",
    "person = [ {'name': \"Emma\", 'language': [\"Python\", \"Java\"]},\n",
    "           {'name': \"Harry\", 'language': [\"C++\", \"C#\"]} \n",
    "         ]\n",
    "language=[]\n",
    "\n",
    "for p in range(len(person)):\n",
    "    for l in person[p]['language']:\n",
    "        language.append(l)\n",
    "        \n",
    "print(f\"person[] = {language}\")\n",
    "\n",
    "#with List Comprehension\n",
    "person_lc=[l for p in range(len(person)) for l in person[p]['language']]  \n",
    "print(f\"With List-Conprehension = {person_lc}\",)"
   ]
  },
  {
   "cell_type": "markdown",
   "metadata": {},
   "source": [
    "#### <i><u><font color=brown> Set Comprehension. </i></u></font>"
   ]
  },
  {
   "cell_type": "code",
   "execution_count": 10,
   "metadata": {},
   "outputs": [
    {
     "name": "stdout",
     "output_type": "stream",
     "text": [
      "With List-Conprehension = ['Python', 'Java', 'C++', 'Python', 'Python']\n",
      "With Set-Conprehension = {'C++', 'Python', 'Java'}\n"
     ]
    }
   ],
   "source": [
    "#Set Comprehension\n",
    "\n",
    "#dictionary inside a list\n",
    "person = [ {'name': \"Emma\", 'language': [\"Python\", \"Java\"]},\n",
    "           {'name': \"Harry\", 'language': [\"C++\", \"Python\"]},\n",
    "           {'name': \"Lily\", 'language': [\"Python\"]} \n",
    "         ]\n",
    "\n",
    "#with List Comprehension\n",
    "person_lc=[l for p in range(len(person)) for l in person[p]['language']]  \n",
    "print(f\"With List-Conprehension = {person_lc}\")\n",
    "\n",
    "#with Set Comprehension\n",
    "person_sc={l for p in range(len(person)) for l in person[p]['language']}  \n",
    "print(f\"With Set-Conprehension = {person_sc}\")"
   ]
  },
  {
   "cell_type": "markdown",
   "metadata": {},
   "source": [
    "#### <i><u><font color=brown> Dictionary Comprehension. </i></u></font>"
   ]
  },
  {
   "cell_type": "code",
   "execution_count": 11,
   "metadata": {},
   "outputs": [
    {
     "name": "stdout",
     "output_type": "stream",
     "text": [
      "cubes = {1: 1, 2: 8, 3: 27, 4: 64, 5: 125, 6: 216, 7: 343, 8: 512, 9: 729, 10: 1000}\n",
      "With Dictionary-Comprehension = {1: 1, 2: 8, 3: 27, 4: 64, 5: 125, 6: 216, 7: 343, 8: 512, 9: 729, 10: 1000}\n"
     ]
    }
   ],
   "source": [
    "#Dictionary Comprehension\n",
    "\n",
    "numbers=[num for num in range(1,11)]    #creating a List of numbers from 1 to 10\n",
    "num_cube=[n**3 for n in numbers]        #creating a List of cubes of numbers from 1 to 10     \n",
    "cubes={}\n",
    "\n",
    "#print(list(zip(numbers,num_cube)))\n",
    "for (key,value) in zip(numbers,num_cube):\n",
    "    cubes[key]=value\n",
    "    \n",
    "print(f\"cubes = {cubes}\")  \n",
    "\n",
    "#with Dictionary Comprehension\n",
    "cubes_dc={key:value for (key,value) in zip(numbers,num_cube)}\n",
    "print(f\"With Dictionary-Comprehension = {cubes_dc}\")"
   ]
  },
  {
   "cell_type": "code",
   "execution_count": null,
   "metadata": {},
   "outputs": [],
   "source": []
  }
 ],
 "metadata": {
  "kernelspec": {
   "display_name": "Python 3",
   "language": "python",
   "name": "python3"
  },
  "language_info": {
   "codemirror_mode": {
    "name": "ipython",
    "version": 3
   },
   "file_extension": ".py",
   "mimetype": "text/x-python",
   "name": "python",
   "nbconvert_exporter": "python",
   "pygments_lexer": "ipython3",
   "version": "3.7.6"
  }
 },
 "nbformat": 4,
 "nbformat_minor": 4
}
