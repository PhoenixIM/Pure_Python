{
 "cells": [
  {
   "cell_type": "markdown",
   "id": "0e22a4c1",
   "metadata": {},
   "source": [
    "### This notebook is created to demonstrate how to generate synthetic data using Python for beginners."
   ]
  },
  {
   "cell_type": "code",
   "execution_count": null,
   "id": "607ebb62",
   "metadata": {},
   "outputs": [],
   "source": [
    "#import required library\n",
    "import random\n",
    "import pandas as pd\n",
    "from typing import Dict\n",
    "from faker import Faker\n",
    "\n",
    "#create a Faker instance and set the locale to GB(Great Britain)\n",
    "fake = Faker(['en_GB'])\n",
    "\n",
    "'''\n",
    "generate synthetic data for the Customer table,\n",
    "\n",
    "customer_id:- a unique identifier for each customer in the table\n",
    "customer_name:- customer's name\n",
    "age:- customer's age\n",
    "income:- customer's yearly income\n",
    "credit_score:- customer's credit score based on their credit history\n",
    "debt_to_income_ratio:- the ratio of the customer's total debt to their income \n",
    "employment_status:- customer's employement status\n",
    "loan_amount:- the loan amount the customer is applying for\n",
    "loan_term:- specific duration of time for repayment of loan\n",
    "payment_history:- customer's past payment behaviour on loans and credit accounts\n",
    "number_of_dependents:- the number of people financially dependent on the customer.\n",
    "'''\n",
    "def generate_customer_data(num_records: int):\n",
    "    customer_data: Dict[str, list] = {\n",
    "        'customer_id': [fake.aba() for i in range(num_records)],\n",
    "        'customer_name': [fake.name() for name in range(num_records)],\n",
    "        'age': [random.randint(18, 70) for age in range(num_records)],\n",
    "        'income': [random.randint(20000, 100000) for income in range(num_records)],\n",
    "        'credit_score': [random.randint(300, 850) for score in range(num_records)],\n",
    "        'debt_to_income_ratio': [round(random.uniform(0.1, 1.0), 2) for ratio in range(num_records)],\n",
    "        'employment_status': [random.choice(['Employed', 'Unemployed', 'Self-employed']) for status in range(num_records)],\n",
    "        'loan_amount': [random.randint(1000, 50000) for amount in range(num_records)],\n",
    "        'loan_term': [random.choice([12, 24, 36, 48, 60]) for term in range(num_records)],\n",
    "        'payment_history': [random.choice(['Good', 'Fair', 'Poor']) for history in range(num_records)],\n",
    "        'number_of_dependents': [random.randint(0, 5) for dep in range(num_records)]\n",
    "    }\n",
    "    return customer_data\n",
    "\n",
    "#total number of records to generate\n",
    "number_of_rows: int = 10000\n",
    "\n",
    "#generate synthetic data for the Customer table\n",
    "customer_data: Dict[str, list] = generate_customer_data(number_of_rows)\n",
    "\n",
    "#create a pandas DataFrame from the dictionary 'customer_data'\n",
    "df_customer: pd.DataFrame = pd.DataFrame(customer_data)\n",
    "\n",
    "#export the synthetic data to a CSV file\n",
    "outout_file: str = 'synthetic_customer_data.csv'\n",
    "df_customer.to_csv(outout_file, index=False, encoding='utf-8', header=\"true\")\n",
    "\n",
    "print(f\"Synthetic data is created according to specific requirements and saved to {outout_file}\")"
   ]
  }
 ],
 "metadata": {
  "kernelspec": {
   "display_name": "Python 3 (ipykernel)",
   "language": "python",
   "name": "python3"
  },
  "language_info": {
   "codemirror_mode": {
    "name": "ipython",
    "version": 3
   },
   "file_extension": ".py",
   "mimetype": "text/x-python",
   "name": "python",
   "nbconvert_exporter": "python",
   "pygments_lexer": "ipython3",
   "version": "3.7.13"
  }
 },
 "nbformat": 4,
 "nbformat_minor": 5
}
