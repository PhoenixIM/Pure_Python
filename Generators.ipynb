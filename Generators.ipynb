{
 "cells": [
  {
   "cell_type": "markdown",
   "metadata": {},
   "source": [
    "## Generator Functions and Generator Expressions in Python."
   ]
  },
  {
   "cell_type": "markdown",
   "metadata": {},
   "source": [
    "#### Generator Function"
   ]
  },
  {
   "cell_type": "code",
   "execution_count": 1,
   "metadata": {},
   "outputs": [
    {
     "name": "stdout",
     "output_type": "stream",
     "text": [
      "[0, 1, 8, 27, 64, 125, 216, 343, 512, 729]\n"
     ]
    }
   ],
   "source": [
    "#Regular Function\n",
    "def num_cube(n1):\n",
    "    '''This fuction returns a list of cubes for numbers within a given range.'''\n",
    "    \n",
    "    cube=[]\n",
    "    for numbers in range(n1):\n",
    "        cube.append(numbers**3)\n",
    "    return cube\n",
    "\n",
    "nums=num_cube(10)\n",
    "print(nums)"
   ]
  },
  {
   "cell_type": "code",
   "execution_count": 2,
   "metadata": {},
   "outputs": [
    {
     "name": "stdout",
     "output_type": "stream",
     "text": [
      "Generator object: <generator object even_num_gen at 0x7fa58051d9d0>\n",
      "0\n",
      "1\n",
      "8\n",
      "27\n",
      "Remaining elements in stream: 64\n",
      "Remaining elements in stream: 125\n",
      "Remaining elements in stream: 216\n",
      "Remaining elements in stream: 343\n",
      "Remaining elements in stream: 512\n",
      "Remaining elements in stream: 729\n"
     ]
    }
   ],
   "source": [
    "#Generator Function\n",
    "def even_num_gen(n1):\n",
    "    '''This generator function yields the cube for numbers within a given range. '''\n",
    "    \n",
    "    for i in range(n1):\n",
    "        yield i**3\n",
    "        \n",
    "num_gen=even_num_gen(10)        \n",
    "print(f\"Generator object: {num_gen}\")\n",
    "\n",
    "#printing values using next()\n",
    "print(next(num_gen)) \n",
    "print(next(num_gen))\n",
    "print(next(num_gen))\n",
    "print(next(num_gen))\n",
    "\n",
    "#looping over generator object\n",
    "for number in num_gen:\n",
    "    print(f\"Remaining elements in stream: {number}\") "
   ]
  },
  {
   "cell_type": "markdown",
   "metadata": {},
   "source": [
    "#### Generator Expression"
   ]
  },
  {
   "cell_type": "code",
   "execution_count": 3,
   "metadata": {},
   "outputs": [
    {
     "name": "stdout",
     "output_type": "stream",
     "text": [
      "List Comprehension = [8, 64, 216, 512, 1000]\n",
      "Generator Expression = <generator object <genexpr> at 0x7fa58051dbd0>\n",
      "Sum = 1800\n",
      "4\n",
      "16\n",
      "36\n",
      "64\n",
      "100\n"
     ]
    }
   ],
   "source": [
    "#Generator Expression\n",
    "\n",
    "num_cube_lc=[n**3 for n in range(1,11) if n%2==0]\n",
    "num_cube_generator=(num**3 for num in range(1,11) if num%2==0)\n",
    "\n",
    "print(f\"List Comprehension = {num_cube_lc}\")     \n",
    "print(f\"Generator Expression = {num_cube_generator}\")\n",
    "\n",
    "#using generator in sum()\n",
    "sum_gen=sum(num_cube_generator)\n",
    "print(f\"Sum = {sum_gen}\")\n",
    "\n",
    "#creating generator expression from another generator expression.\n",
    "generator_one=(x for x in range(1,11))\n",
    "generator_two=(y**2 for y in generator_one if y%2==0)\n",
    "\n",
    "for i in generator_two:\n",
    "    print(i)"
   ]
  },
  {
   "cell_type": "markdown",
   "metadata": {},
   "source": [
    "#### Storage comparision: List vs Generator"
   ]
  },
  {
   "cell_type": "code",
   "execution_count": 5,
   "metadata": {},
   "outputs": [
    {
     "name": "stdout",
     "output_type": "stream",
     "text": [
      "Size of a list: 8058558888 bytes\n",
      "Size of a generator: 128 bytes\n"
     ]
    }
   ],
   "source": [
    "#storage comparision\n",
    "from sys import getsizeof\n",
    "\n",
    "list_num=[n1 for n1 in range(1000000000)]   #list-comprehension\n",
    "gen_num=(n2 for n2 in range(1000000000))    #generator-expression\n",
    "\n",
    "print(f\"Size of a list: {getsizeof(list_num)} bytes\")\n",
    "print(f\"Size of a generator: {getsizeof(gen_num)} bytes\")\n",
    "\n",
    "# Size of a list: 8058558888 bytes\n",
    "# Size of a generator: 128 bytes"
   ]
  },
  {
   "cell_type": "markdown",
   "metadata": {},
   "source": [
    "#### Execution time comparision: List vs Generator"
   ]
  },
  {
   "cell_type": "code",
   "execution_count": null,
   "metadata": {},
   "outputs": [],
   "source": [
    "#time comparision\n",
    "from timeit import timeit \n",
    "\n",
    "t1=timeit('list_num=[n1 for n1 in range(1000000000)]')\n",
    "print(t1)\n",
    "\n",
    "t2=timeit('gen_num=(n2 for n2 in range(1000000000))')\n",
    "print(t2)"
   ]
  }
 ],
 "metadata": {
  "kernelspec": {
   "display_name": "Python 3",
   "language": "python",
   "name": "python3"
  },
  "language_info": {
   "codemirror_mode": {
    "name": "ipython",
    "version": 3
   },
   "file_extension": ".py",
   "mimetype": "text/x-python",
   "name": "python",
   "nbconvert_exporter": "python",
   "pygments_lexer": "ipython3",
   "version": "3.7.6"
  }
 },
 "nbformat": 4,
 "nbformat_minor": 4
}
