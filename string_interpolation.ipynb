{
 "cells": [
  {
   "cell_type": "code",
   "execution_count": 1,
   "metadata": {},
   "outputs": [
    {
     "name": "stdout",
     "output_type": "stream",
     "text": [
      "Result of calculation is 4.38\n",
      "\n",
      "Hey! I'm Emma, 33 years old andI love Python Programing\n",
      "\n",
      "Hey! I'm Emma and I'm 33 years old.\n"
     ]
    }
   ],
   "source": [
    "#This notebook is created to demonstrate ways of achieving string interpolation in Python.\n",
    "\n",
    "#1.Using % operator\n",
    "calc = 22.3765+8.00003422-(411%35)      #here % works as a caculation operator\n",
    "print(\"Result of calculation is %3.2f\"%calc)    #here % interpolates a floating point number\n",
    "\n",
    "print(\"\\nHey! I'm %s, %d years old andI love %s Programing\"%('Emma',33,'Python'))  #values are replaced from a tuple\n",
    "\n",
    "format_str=\"\\nHey! I'm %s and I'm %d years old.\"\n",
    "emma_info=('Emma',33)\n",
    "\n",
    "print(format_str %emma_info)\n"
   ]
  },
  {
   "cell_type": "code",
   "execution_count": 2,
   "metadata": {},
   "outputs": [
    {
     "name": "stdout",
     "output_type": "stream",
     "text": [
      "\n",
      "Hey! I'm Emma, 33 years old, and I love Python Programing.\n",
      "\n",
      "33 years old Emma loves Python programming.\n",
      "\n",
      "Emma loves Python programming and she is 33 years old.\n"
     ]
    }
   ],
   "source": [
    "#2.Using .format() method\n",
    "#Part-1\n",
    "name=\"Emma\"\n",
    "age=33\n",
    "lan=\"Python\"\n",
    "\n",
    "#default\n",
    "print(\"\\nHey! I'm {}, {} years old, and I love {} Programing.\".format(name,age,lan))\n",
    "\n",
    "#using indexes.\n",
    "print(\"\\n{0} years old {2} loves {1} programming.\".format(age,lan,name))\n",
    "\n",
    "#using keywords.\n",
    "print(\"\\n{n} loves {l} programming and she is {a} years old.\".format(a=age,l=lan,n=name))\n"
   ]
  },
  {
   "cell_type": "code",
   "execution_count": 3,
   "metadata": {},
   "outputs": [
    {
     "name": "stdout",
     "output_type": "stream",
     "text": [
      "Hey! My name is Emma, I'm 33 years old, currently living in UK and love Python programming\n",
      "\n",
      "Person info from List: Emma from UK\n"
     ]
    }
   ],
   "source": [
    "#2.Using .format() method\n",
    "#Part-2\n",
    "\n",
    "#Dictionary\n",
    "person_dict= dict(name=\"Emma\", age=33, country=\"UK\", lan=\"Python\")    \n",
    "print(\"Hey! My name is {name}, I'm {age} years old, currently living in {country} and love {lan} programming\"\n",
    "      .format(**person_dict))      # '**' - used for mapping\n",
    "\n",
    "#List\n",
    "person_list=[\"Emma\",33,\"UK\"]\n",
    "print(\"\\nPerson info from List: {0} from {2}\".format(*person_list))\n",
    "\n"
   ]
  },
  {
   "cell_type": "code",
   "execution_count": 4,
   "metadata": {},
   "outputs": [
    {
     "name": "stdout",
     "output_type": "stream",
     "text": [
      "Emma is 33 years old currently living in UK and loves Python programming.\n",
      "33 years old  Emma lives in UK and loves Python programming\n",
      "'Emma' is a python developer from UK\n",
      "\n",
      "Date in default format: 2020-06-04 17:01:31.407452 \n",
      "Date in custom format: 04/06/20\n"
     ]
    }
   ],
   "source": [
    "#3.Using f-string formatting\n",
    "from datetime import datetime\n",
    "\n",
    "my_name=\"Emma\"\n",
    "d=datetime.now()\n",
    "\n",
    "#List\n",
    "info=[\"Emma\",33,\"UK\",\"Python\"]    \n",
    "print(f\"{info[0]} is {info[1]} years old currently living in {info[2]} and loves {info[3]} programming.\")\n",
    "\n",
    "#Dictionary\n",
    "data= dict(name=\"Emma\", age=33, country=\"UK\", lan=\"Python\")     \n",
    "print(f\"{data['age']} years old  {data['name']} lives in {data['country']} and loves {data['lan']} programming\")\n",
    "\n",
    "print(f\"{my_name!r} is a python developer from UK\")   #!r - with quotes\n",
    "\n",
    "print(f\"\\nDate in default format: {d} \")  \n",
    "print(f\"Date in custom format: {d:%d/%m/%y}\")  "
   ]
  },
  {
   "cell_type": "code",
   "execution_count": 5,
   "metadata": {},
   "outputs": [
    {
     "name": "stdout",
     "output_type": "stream",
     "text": [
      "\n",
      "Emma is 33 years old and loves Python programming!\n",
      "\n",
      "$age years old Emma loves Python programming\n",
      "\n",
      "$age years old Harry loves Java programming\n"
     ]
    }
   ],
   "source": [
    "#4.Using Template string\n",
    "from string import Template\n",
    "\n",
    "#creating object of Template class\n",
    "person_info=Template('\\n$name is $years years old and loves $lan programming!')   \n",
    "print(person_info.substitute(name='Emma',years=33,lan='Python'))  #substitute()\n",
    "\n",
    "List1=[(\"Emma\",33,\"Python\"),(\"Harry\",34,\"Java\")]\n",
    "person_data=Template(\"\\n$age years old $name loves $lan programming\")\n",
    "\n",
    "for i in List1:\n",
    "    print(person_data.safe_substitute(name=i[0],lan=i[2]))    #safe_substitute()    "
   ]
  }
 ],
 "metadata": {
  "kernelspec": {
   "display_name": "Python 3",
   "language": "python",
   "name": "python3"
  },
  "language_info": {
   "codemirror_mode": {
    "name": "ipython",
    "version": 3
   },
   "file_extension": ".py",
   "mimetype": "text/x-python",
   "name": "python",
   "nbconvert_exporter": "python",
   "pygments_lexer": "ipython3",
   "version": "3.7.3"
  }
 },
 "nbformat": 4,
 "nbformat_minor": 2
}
